{
  "nbformat": 4,
  "nbformat_minor": 0,
  "metadata": {
    "colab": {
      "provenance": []
    },
    "kernelspec": {
      "name": "python3",
      "display_name": "Python 3"
    },
    "language_info": {
      "name": "python"
    }
  },
  "cells": [
    {
      "cell_type": "code",
      "source": [
        "import csv\n",
        "import numpy as np\n",
        "import matplotlib.pyplot as plt\n",
        "from scipy.fft import fft, fftfreq\n",
        "import scipy.io\n",
        "import pandas as pd\n",
        "import seaborn as sns\n",
        "from scipy import signal\n",
        "import pandas as pd\n"
      ],
      "metadata": {
        "id": "eIpgUFCkC3ja"
      },
      "execution_count": null,
      "outputs": []
    },
    {
      "cell_type": "code",
      "source": [
        "dracula_colors = [\n",
        "    '#FF5555',\n",
        "    '#FFB86C',\n",
        "    '#50FA7B',\n",
        "    '#BD93F9',\n",
        "    '#FF79C6',\n",
        "    '#8BE9FD',\n",
        "    '#F1FA8C',\n",
        "    '#44475A'\n",
        "]\n",
        "\n",
        "plt.style.use({\n",
        "    'axes.facecolor': '#282A36',\n",
        "    'figure.facecolor': '#282A36',\n",
        "    'axes.edgecolor': '#44475A',\n",
        "    'axes.labelcolor': '#F8F8F2',\n",
        "    'xtick.color': '#F8F8F2',\n",
        "    'ytick.color': '#F8F8F2',\n",
        "    'grid.color': '#44475A',\n",
        "    'lines.color': '#FF79C6',\n",
        "    'patch.edgecolor': '#282A36',\n",
        "    'text.color': '#F8F8F2',\n",
        "    'axes.prop_cycle': plt.cycler(color=dracula_colors)\n",
        "})"
      ],
      "metadata": {
        "id": "RcfAu6C7DC1-"
      },
      "execution_count": null,
      "outputs": []
    },
    {
      "cell_type": "code",
      "execution_count": null,
      "metadata": {
        "id": "p3O9ZkX8Cz82"
      },
      "outputs": [],
      "source": [
        "def inspect_mat_file(filepath: str):\n",
        "    data = scipy.io.loadmat(filepath)\n",
        "    return data.keys()\n",
        "\n",
        "data_normal = inspect_mat_file(\"Normal.mat\")\n",
        "data_falhas = inspect_mat_file(\"Falhas.mat\")\n",
        "data_desconhecidos = inspect_mat_file(\"Desconhecidos.mat\")\n",
        "\n",
        "def read_data(filepath: str, key: str):\n",
        "    data = scipy.io.loadmat(filepath)\n",
        "    return data[key]\n",
        "\n",
        "normais = read_data(\"Normal.mat\", 'Normal')\n",
        "falhas = read_data(\"Falhas.mat\", 'Falhas')\n",
        "desconhecidos = read_data(\"Desconhecidos.mat\", 'Desconhecidos')\n",
        "\n",
        "print(\"Tamanho dos dados Normais:\", normais.shape)\n",
        "print(\"Tamanho dos dados com Falhas:\", falhas.shape)\n",
        "print(\"Tamanho dos dados Desconhecidos:\", desconhecidos.shape)\n",
        "\n",
        "df_normais = pd.DataFrame(normais, columns=[f'Coluna {i}' for i in range(normais.shape[1])])\n",
        "df_falhas = pd.DataFrame(falhas, columns=[f'Coluna {i}' for i in range(falhas.shape[1])])\n",
        "df_desconhecidos = pd.DataFrame(desconhecidos, columns=[f'Coluna {i}' for i in range(desconhecidos.shape[1])])"
      ]
    },
    {
      "cell_type": "code",
      "source": [
        "import matplotlib.pyplot as plt\n",
        "\n",
        "for i in range(df_normais.shape[1]):\n",
        "  plt.figure(figsize=(100, 6))\n",
        "  plt.plot(df_normais[f'Coluna {i}'])\n",
        "  plt.title(f'Motor {i+1} - Dados Normais')\n",
        "  plt.xlabel('Tempo')\n",
        "  plt.ylabel('Valor')\n",
        "  plt.grid(True)\n",
        "  plt.show()\n"
      ],
      "metadata": {
        "id": "QjVyXxgqG8bX"
      },
      "execution_count": null,
      "outputs": []
    },
    {
      "cell_type": "code",
      "source": [
        "\n",
        "for i in range(df_falhas.shape[1]):\n",
        "  plt.figure(figsize=(100, 6))\n",
        "  plt.plot(df_falhas[f'Coluna {i}'])\n",
        "  plt.title(f'Motor {i+1} - Dados com Falhas')\n",
        "  plt.xlabel('Tempo')\n",
        "  plt.ylabel('Valor')\n",
        "  plt.grid(True)\n",
        "  plt.show()\n"
      ],
      "metadata": {
        "id": "SWxl31ghH9eO"
      },
      "execution_count": null,
      "outputs": []
    },
    {
      "cell_type": "code",
      "source": [
        "\n",
        "for i in range(df_desconhecidos.shape[1]):\n",
        "  plt.figure(figsize=(100, 6))\n",
        "  plt.plot(df_falhas[f'Coluna {i}'])\n",
        "  plt.title(f'Motor {i+1} - Dados com Falhas')\n",
        "  plt.xlabel('Tempo')\n",
        "  plt.ylabel('Valor')\n",
        "  plt.grid(True)\n",
        "  plt.show()\n"
      ],
      "metadata": {
        "id": "mHj7xlezISrk"
      },
      "execution_count": null,
      "outputs": []
    },
    {
      "cell_type": "code",
      "source": [
        "import matplotlib.pyplot as plt\n",
        "\n",
        "start_index = 0\n",
        "end_index = 1000\n",
        "\n",
        "for i in range(df_desconhecidos.shape[1]):\n",
        "    plt.figure(figsize=(12, 6))\n",
        "    plt.plot(df_desconhecidos.iloc[start_index:end_index, i])\n",
        "    plt.title(f'Motor {i+1} - Dados Desconhecidos')\n",
        "    plt.xlabel('Tempo')\n",
        "    plt.ylabel('Valor')\n",
        "    plt.grid(True)\n",
        "    plt.show()\n"
      ],
      "metadata": {
        "id": "Sjqqg-BUIhJX"
      },
      "execution_count": null,
      "outputs": []
    },
    {
      "cell_type": "code",
      "source": [
        "import matplotlib.pyplot as plt\n",
        "\n",
        "start_index = 0\n",
        "end_index = 500\n",
        "\n",
        "for i in range(df_falhas.shape[1]):\n",
        "    plt.figure(figsize=(12, 6))\n",
        "    plt.plot(df_falhas.iloc[start_index:end_index, i])\n",
        "    plt.title(f'Motor {i+1} - Dados com Falhas')\n",
        "    plt.xlabel('Tempo')\n",
        "    plt.ylabel('Valor')\n",
        "    plt.grid(True)\n",
        "    plt.show()\n"
      ],
      "metadata": {
        "id": "biojl7VgIF8V"
      },
      "execution_count": null,
      "outputs": []
    },
    {
      "cell_type": "code",
      "source": [
        "import matplotlib.pyplot as plt\n",
        "\n",
        "start_index = 0\n",
        "end_index = 500\n",
        "\n",
        "for i in range(df_normais.shape[1]):\n",
        "    plt.figure(figsize=(12, 6))\n",
        "    plt.plot(df_normais.iloc[start_index:end_index, i])\n",
        "    plt.title(f'Motor {i+1} - Dados Normais')\n",
        "    plt.xlabel('Tempo')\n",
        "    plt.ylabel('Valor')\n",
        "    plt.grid(True)\n",
        "    plt.show()\n"
      ],
      "metadata": {
        "id": "PeIe_9DtHxV2"
      },
      "execution_count": null,
      "outputs": []
    },
    {
      "cell_type": "code",
      "source": [
        "import matplotlib.pyplot as plt\n",
        "from scipy.fft import fft, fftfreq\n",
        "import numpy as np\n",
        "\n",
        "startindex = 0  # Índice inicial para visualização\n",
        "endindex = 1200  # Índice final para visualização\n",
        "\n",
        "# Calcular a FFT para uma coluna de cada dataframe\n",
        "column_index = 0  # Escolha uma coluna para análise\n",
        "\n",
        "# Dados normais\n",
        "yf_normais = fft(df_normais.iloc[:, column_index].to_numpy())\n",
        "xf_normais = fftfreq(len(df_normais.iloc[:, column_index]), 1/10000)\n",
        "\n",
        "# Dados com falhas\n",
        "yf_falhas = fft(df_falhas.iloc[:, column_index].to_numpy())\n",
        "xf_falhas = fftfreq(len(df_falhas.iloc[:, column_index]), 1/10000)\n",
        "\n",
        "# Dados desconhecidos\n",
        "yf_desconhecidos = fft(df_desconhecidos.iloc[:, column_index].to_numpy())\n",
        "xf_desconhecidos = fftfreq(len(df_desconhecidos.iloc[:, column_index]), 1/10000)\n",
        "\n",
        "# Gráfico da FFT - Dados Normais\n",
        "plt.figure(figsize=(12, 6))\n",
        "plt.plot(xf_normais[startindex:endindex], np.abs(yf_normais[startindex:endindex]))\n",
        "plt.title('FFT - Dados Normais')\n",
        "plt.xlabel('Frequência (Hz)')\n",
        "plt.ylabel('Magnitude')\n",
        "plt.grid(True)\n",
        "plt.show()\n",
        "\n",
        "# Gráfico da FFT - Dados com Falhas\n",
        "plt.figure(figsize=(12, 6))\n",
        "plt.plot(xf_falhas[startindex:endindex], np.abs(yf_falhas[startindex:endindex]))\n",
        "plt.title('FFT - Dados com Falhas')\n",
        "plt.xlabel('Frequência (Hz)')\n",
        "plt.ylabel('Magnitude')\n",
        "plt.grid(True)\n",
        "plt.show()\n",
        "\n",
        "# Gráfico da FFT - Dados Desconhecidos\n",
        "plt.figure(figsize=(12, 6))\n",
        "plt.plot(xf_desconhecidos[startindex:endindex], np.abs(yf_desconhecidos[startindex:endindex]))\n",
        "plt.title('FFT - Dados Desconhecidos')\n",
        "plt.xlabel('Frequência (Hz)')\n",
        "plt.ylabel('Magnitude')\n",
        "plt.grid(True)\n",
        "plt.show()\n"
      ],
      "metadata": {
        "id": "ygBKkL9FLK-J"
      },
      "execution_count": null,
      "outputs": []
    },
    {
      "cell_type": "code",
      "source": [
        "from statsmodels.tsa.stattools import acf\n",
        "\n",
        "# Calcular a função de autocorrelação para cada coluna\n",
        "for i in range(df_desconhecidos.shape[1]):\n",
        "  autocorr = acf(df_desconhecidos.iloc[:, i], nlags=50)\n",
        "  plt.plot(autocorr, label=f'Motor {i+1}')\n",
        "\n",
        "plt.title('Função de Autocorrelação - Dados Desconhecidos')\n",
        "plt.xlabel('Lag')\n",
        "plt.ylabel('Autocorrelação')\n",
        "plt.legend()\n",
        "plt.show()\n"
      ],
      "metadata": {
        "id": "UTpuiU5fGTAP"
      },
      "execution_count": null,
      "outputs": []
    },
    {
      "cell_type": "code",
      "source": [
        "# Calcular a função de autocorrelação para cada coluna\n",
        "for i in range(df_normais.shape[1]):\n",
        "  autocorr = acf(df_normais.iloc[:, i], nlags=50)\n",
        "  plt.plot(autocorr, label=f'Motor {i+1}')\n",
        "\n",
        "plt.title('Função de Autocorrelação - Dados Normais')\n",
        "plt.xlabel('Lag')\n",
        "plt.ylabel('Autocorrelação')\n",
        "plt.legend()\n",
        "plt.show()\n"
      ],
      "metadata": {
        "id": "8uDXr4VufyaD"
      },
      "execution_count": null,
      "outputs": []
    },
    {
      "cell_type": "code",
      "source": [
        "from scipy.signal import welch\n",
        "import matplotlib.pyplot as plt\n",
        "\n",
        "# Função para calcular e plotar a densidade espectral de potência\n",
        "def plot_densidade_espectral(data, fs, title):\n",
        "    for i in range(data.shape[1]):\n",
        "        f, Pxx = welch(data.iloc[:, i], fs=fs, nperseg=1024)\n",
        "        plt.semilogy(f, Pxx, label=f'Motor {i+1}')\n",
        "\n",
        "    plt.title(title)\n",
        "    plt.xlabel('Frequência (Hz)')\n",
        "    plt.ylabel('Densidade Espectral de Potência (V²/Hz)')\n",
        "    plt.legend()\n",
        "    plt.show()\n",
        "\n",
        "# Taxa de amostragem\n",
        "fs = 10000  # 10 kHz\n",
        "\n",
        "# Plotar a DEP dos motores desconhecidos\n",
        "plot_densidade_espectral(df_desconhecidos, fs, 'Densidade Espectral de Potência - Dados Desconhecidos')\n"
      ],
      "metadata": {
        "id": "JmbSzfbmDF_5"
      },
      "execution_count": null,
      "outputs": []
    },
    {
      "cell_type": "code",
      "source": [
        "# Calcular a função de autocorrelação para cada coluna\n",
        "for i in range(df_falhas.shape[1]):\n",
        "  autocorr = acf(df_falhas.iloc[:, i], nlags=50)\n",
        "  plt.plot(autocorr, label=f'Motor {i+1}')\n",
        "\n",
        "plt.title('Função de Autocorrelação - Dados com Falhas')\n",
        "plt.xlabel('Lag')\n",
        "plt.ylabel('Autocorrelação')\n",
        "plt.legend()\n",
        "plt.show()\n"
      ],
      "metadata": {
        "id": "7Hj4Q-cqgSNd"
      },
      "execution_count": null,
      "outputs": []
    },
    {
      "cell_type": "code",
      "source": [
        "# Calcular a função de autocorrelação para a coluna 1 do df_normais\n",
        "autocorr_normais = acf(df_normais.iloc[:, 1], nlags=30)\n",
        "\n",
        "# Calcular a função de autocorrelação para a coluna 1 do df_falhas\n",
        "autocorr_falhas = acf(df_falhas.iloc[:, 1], nlags=30)\n",
        "\n",
        "# Plotar a função de autocorrelação\n",
        "plt.figure(figsize=(12, 6))\n",
        "plt.plot(autocorr_normais, label='Motor 1 - Dados Normais')\n",
        "plt.plot(autocorr_falhas, label='Motor 1 - Dados com Falhas')\n",
        "plt.title('Função de Autocorrelação - Motores')\n",
        "plt.xlabel('')\n",
        "plt.ylabel('Autocorrelação')\n",
        "plt.legend()\n",
        "plt.show()\n"
      ],
      "metadata": {
        "id": "EH2UyzoTh2zA"
      },
      "execution_count": null,
      "outputs": []
    },
    {
      "cell_type": "code",
      "source": [
        "# Taxa de amostragem\n",
        "fs = 10000  # 10 kHz\n",
        "\n",
        "# Calcular a DEP da coluna 1 de cada dataframe\n",
        "f_normais, Pxx_normais = welch(df_normais.iloc[:, 1], fs=fs, nperseg=1024)\n",
        "f_falhas, Pxx_falhas = welch(df_falhas.iloc[:, 1], fs=fs, nperseg=1024)\n",
        "f_desconhecidos, Pxx_desconhecidos = welch(df_desconhecidos.iloc[:, 1], fs=fs, nperseg=1024)\n",
        "\n",
        "# Plotar a DEP da coluna 1\n",
        "plt.figure(figsize=(12, 6))\n",
        "plt.semilogy(f_normais, Pxx_normais, label='Dados Normais - Motor 1')\n",
        "plt.semilogy(f_falhas, Pxx_falhas, label='Dados com Falhas - Motor 1')\n",
        "plt.semilogy(f_desconhecidos, Pxx_desconhecidos, label='Dados Desconhecidos - Motor 1')\n",
        "plt.title('Densidade Espectral de Potência - Primeiros Motores')\n",
        "plt.xlabel('Frequência (Hz)')\n",
        "plt.ylabel('Densidade Espectral de Potência (V²/Hz)')\n",
        "plt.legend()\n",
        "plt.show()\n"
      ],
      "metadata": {
        "id": "KjwCJXGWkckA"
      },
      "execution_count": null,
      "outputs": []
    },
    {
      "cell_type": "code",
      "source": [
        "fs = 10000  # 10 kHz\n",
        "\n",
        "df_normais_subset = df_normais.iloc[:, :2]\n",
        "\n",
        "plot_densidade_espectral(df_normais_subset, fs, 'Densidade Espectral de Potência - Dados Normais')\n"
      ],
      "metadata": {
        "id": "pDZhTP3b0CJL"
      },
      "execution_count": null,
      "outputs": []
    },
    {
      "cell_type": "code",
      "source": [
        "df_desconhecidos.head()"
      ],
      "metadata": {
        "id": "C7vlW_yJBofB"
      },
      "execution_count": null,
      "outputs": []
    },
    {
      "cell_type": "code",
      "source": [
        "import numpy as np\n",
        "import pandas as pd\n",
        "from scipy.signal import welch\n",
        "from sklearn.neighbors import KNeighborsClassifier\n",
        "from sklearn.preprocessing import StandardScaler\n",
        "\n",
        "# Função para calcular a DEP usando o método de Welch\n",
        "def calcular_dep(data, fs=10000, nperseg=1024):\n",
        "    freqs, Pxx = welch(data, fs, nperseg=nperseg)\n",
        "    return Pxx\n",
        "\n",
        "# Função para calcular a DEP de todas as colunas (motores) de um DataFrame\n",
        "def calcular_dep_para_motores(df):\n",
        "    dep_motores = []\n",
        "    for col in df.columns:\n",
        "        dep = calcular_dep(df[col])\n",
        "        dep_motores.append(dep)\n",
        "    return np.array(dep_motores)\n",
        "\n",
        "# Função para classificar os motores desconhecidos\n",
        "def classificar_motores(df_normais, df_falhas, df_desconhecidos, n_neighbors=3):\n",
        "    # Calculando a DEP para todos os motores normais, falhas e desconhecidos\n",
        "    dep_normais = calcular_dep_para_motores(df_normais)\n",
        "    dep_falhas = calcular_dep_para_motores(df_falhas)\n",
        "    dep_desconhecidos = calcular_dep_para_motores(df_desconhecidos)\n",
        "\n",
        "    # Preparando os dados de treinamento (0: normal, 1: falha)\n",
        "    X_train = np.vstack((dep_normais, dep_falhas))\n",
        "    y_train = np.hstack((np.zeros(dep_normais.shape[0]), np.ones(dep_falhas.shape[0])))\n",
        "\n",
        "    # Escalando os dados de treinamento\n",
        "    scaler = StandardScaler()\n",
        "    X_train_scaled = scaler.fit_transform(X_train)\n",
        "\n",
        "    # Classificando cada motor desconhecido\n",
        "    knn = KNeighborsClassifier(n_neighbors=n_neighbors)\n",
        "    knn.fit(X_train_scaled, y_train)\n",
        "\n",
        "    # Escalando e classificando os dados desconhecidos\n",
        "    dep_desconhecidos_scaled = scaler.transform(dep_desconhecidos)\n",
        "\n",
        "    for i in range(dep_desconhecidos_scaled.shape[0]):\n",
        "        pred = knn.predict(dep_desconhecidos_scaled[i].reshape(1, -1))[0]\n",
        "        status = 'Normal' if pred == 0 else 'Falha'\n",
        "        print(f'Motor {i+1} classificado como: {status}')\n",
        "\n",
        "# Chamando a função com os DataFrames de normais, falhas e desconhecidos\n",
        "classificar_motores(df_normais, df_falhas, df_desconhecidos)\n"
      ],
      "metadata": {
        "id": "z5MVaLCmGv46"
      },
      "execution_count": null,
      "outputs": []
    },
    {
      "cell_type": "code",
      "source": [
        "from sklearn.ensemble import RandomForestClassifier\n",
        "\n",
        "# Função para classificar os motores desconhecidos usando Random Forest\n",
        "def classificar_motores_rf(df_normais, df_falhas, df_desconhecidos, n_estimators=100):\n",
        "    # Calculando a DEP para todos os motores normais, falhas e desconhecidos\n",
        "    dep_normais = calcular_dep_para_motores(df_normais)\n",
        "    dep_falhas = calcular_dep_para_motores(df_falhas)\n",
        "    dep_desconhecidos = calcular_dep_para_motores(df_desconhecidos)\n",
        "\n",
        "    # Preparando os dados de treinamento (0: normal, 1: falha)\n",
        "    X_train = np.vstack((dep_normais, dep_falhas))\n",
        "    y_train = np.hstack((np.zeros(dep_normais.shape[0]), np.ones(dep_falhas.shape[0])))\n",
        "\n",
        "    # Escalando os dados de treinamento\n",
        "    scaler = StandardScaler()\n",
        "    X_train_scaled = scaler.fit_transform(X_train)\n",
        "\n",
        "    # Criando e treinando o classificador Random Forest\n",
        "    rf = RandomForestClassifier(n_estimators=n_estimators, random_state=42)\n",
        "    rf.fit(X_train_scaled, y_train)\n",
        "\n",
        "    # Escalando e classificando os dados desconhecidos\n",
        "    dep_desconhecidos_scaled = scaler.transform(dep_desconhecidos)\n",
        "\n",
        "    for i in range(dep_desconhecidos_scaled.shape[0]):\n",
        "        pred = rf.predict(dep_desconhecidos_scaled[i].reshape(1, -1))[0]\n",
        "        status = 'Normal' if pred == 0 else 'Falha'\n",
        "        print(f'Motor {i+1} classificado como: {status}')\n",
        "\n",
        "# Chamando a função com Random Forest\n",
        "classificar_motores_rf(df_normais, df_falhas, df_desconhecidos)\n"
      ],
      "metadata": {
        "id": "2Zc4bBLqEIYW"
      },
      "execution_count": null,
      "outputs": []
    }
  ]
}